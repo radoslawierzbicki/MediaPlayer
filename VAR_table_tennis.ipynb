{
  "nbformat": 4,
  "nbformat_minor": 0,
  "metadata": {
    "colab": {
      "provenance": [],
      "authorship_tag": "ABX9TyMcVZY+BOewGWFWKUzaNgq3",
      "include_colab_link": true
    },
    "kernelspec": {
      "name": "python3",
      "display_name": "Python 3"
    },
    "language_info": {
      "name": "python"
    }
  },
  "cells": [
    {
      "cell_type": "markdown",
      "metadata": {
        "id": "view-in-github",
        "colab_type": "text"
      },
      "source": [
        "<a href=\"https://colab.research.google.com/github/radoslawierzbicki/MediaPlayer/blob/main/VAR_table_tennis.ipynb\" target=\"_parent\"><img src=\"https://colab.research.google.com/assets/colab-badge.svg\" alt=\"Open In Colab\"/></a>"
      ]
    },
    {
      "cell_type": "code",
      "execution_count": 4,
      "metadata": {
        "colab": {
          "base_uri": "https://localhost:8080/"
        },
        "id": "7l-SJAZleVuC",
        "outputId": "a5b0e489-dc12-4cbd-d77c-927531861d36"
      },
      "outputs": [
        {
          "output_type": "stream",
          "name": "stdout",
          "text": [
            "its VAR for Table Tennis!\n"
          ]
        }
      ],
      "source": [
        "print(\"it will be a VAR for Table Tennis!\")"
      ]
    },
    {
      "cell_type": "markdown",
      "source": [
        "Projekt VARu w tenisie stołowym"
      ],
      "metadata": {
        "id": "LmMKyC30lnP8"
      }
    },
    {
      "cell_type": "code",
      "source": [
        "print(\"🏓\")"
      ],
      "metadata": {
        "colab": {
          "base_uri": "https://localhost:8080/"
        },
        "id": "dJjuvSW5kpPY",
        "outputId": "aea83e10-2e49-4dfd-e926-fa187fa9833a"
      },
      "execution_count": 5,
      "outputs": [
        {
          "output_type": "stream",
          "name": "stdout",
          "text": [
            "🏓\n"
          ]
        }
      ]
    }
  ]
}